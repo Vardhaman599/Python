{
 "cells": [
  {
   "cell_type": "code",
   "execution_count": 1,
   "id": "af3da10c",
   "metadata": {},
   "outputs": [
    {
     "name": "stdout",
     "output_type": "stream",
     "text": [
      "Hello python\n",
      "Hello python\n",
      "Hello python\n",
      "Hello python\n",
      "Hello python\n"
     ]
    }
   ],
   "source": [
    "# ==================== FOR LOOP ==============================\n",
    "\n",
    "# i define as iteration\n",
    "for i in range(5):  # while loop we check the  condition\n",
    "    print('Hello python') "
   ]
  },
  {
   "cell_type": "code",
   "execution_count": 2,
   "id": "5554bff3",
   "metadata": {},
   "outputs": [
    {
     "name": "stdout",
     "output_type": "stream",
     "text": [
      "Hello python: 0\n",
      "testing \n",
      "Hello python: 1\n",
      "testing \n",
      "Hello python: 2\n",
      "testing \n",
      "Hello python: 3\n",
      "testing \n",
      "Hello python: 4\n",
      "testing \n"
     ]
    }
   ],
   "source": [
    "for j in range(5):\n",
    "    print(\"Hello python:\",j)\n",
    "    print('testing ')"
   ]
  },
  {
   "cell_type": "code",
   "execution_count": 3,
   "id": "2629799f",
   "metadata": {},
   "outputs": [
    {
     "name": "stdout",
     "output_type": "stream",
     "text": [
      "Hello Python: 0\n",
      "Hello Python: 1\n",
      "Hello Python: 2\n",
      "Hello Python: 3\n",
      "Hello Python: 4\n",
      "Hello Python: 5\n",
      "Hello Python: 6\n"
     ]
    }
   ],
   "source": [
    "for i in range(7):\n",
    "    print(\"Hello Python:\",i)\n",
    "    #print(\"Hello python:\",i)|"
   ]
  },
  {
   "cell_type": "code",
   "execution_count": 4,
   "id": "693c86a5",
   "metadata": {},
   "outputs": [
    {
     "data": {
      "text/plain": [
       "list"
      ]
     },
     "execution_count": 4,
     "metadata": {},
     "output_type": "execute_result"
    }
   ],
   "source": [
    "#Another way\n",
    "mylist = [10,100,1000,2000] \n",
    "type(mylist)"
   ]
  },
  {
   "cell_type": "code",
   "execution_count": 5,
   "id": "7ed0d060",
   "metadata": {},
   "outputs": [
    {
     "data": {
      "text/plain": [
       "[10, 100, 1000]"
      ]
     },
     "execution_count": 5,
     "metadata": {},
     "output_type": "execute_result"
    }
   ],
   "source": [
    "mylist[:3]"
   ]
  },
  {
   "cell_type": "code",
   "execution_count": 6,
   "id": "043532ac",
   "metadata": {},
   "outputs": [
    {
     "data": {
      "text/plain": [
       "[10, 100, 1000, 2000]"
      ]
     },
     "execution_count": 6,
     "metadata": {},
     "output_type": "execute_result"
    }
   ],
   "source": [
    "mylist"
   ]
  },
  {
   "cell_type": "code",
   "execution_count": 7,
   "id": "9d0a0965",
   "metadata": {},
   "outputs": [
    {
     "data": {
      "text/plain": [
       "[2000, 1000, 100, 10]"
      ]
     },
     "execution_count": 7,
     "metadata": {},
     "output_type": "execute_result"
    }
   ],
   "source": [
    "mylist[::-1]"
   ]
  },
  {
   "cell_type": "code",
   "execution_count": 8,
   "id": "c5f9d5f7",
   "metadata": {},
   "outputs": [
    {
     "data": {
      "text/plain": [
       "[10, 100, 1000, 2000]"
      ]
     },
     "execution_count": 8,
     "metadata": {},
     "output_type": "execute_result"
    }
   ],
   "source": [
    "mylist"
   ]
  },
  {
   "cell_type": "code",
   "execution_count": 9,
   "id": "8fafe70a",
   "metadata": {},
   "outputs": [
    {
     "data": {
      "text/plain": [
       "[10, 100, 1000]"
      ]
     },
     "execution_count": 9,
     "metadata": {},
     "output_type": "execute_result"
    }
   ],
   "source": [
    "mylist[:-1]"
   ]
  },
  {
   "cell_type": "code",
   "execution_count": 10,
   "id": "fde86fcb",
   "metadata": {},
   "outputs": [
    {
     "data": {
      "text/plain": [
       "[10, 100, 1000, 2000]"
      ]
     },
     "execution_count": 10,
     "metadata": {},
     "output_type": "execute_result"
    }
   ],
   "source": [
    "mylist"
   ]
  },
  {
   "cell_type": "code",
   "execution_count": 11,
   "id": "dda8e87c",
   "metadata": {},
   "outputs": [
    {
     "data": {
      "text/plain": [
       "[10, 100]"
      ]
     },
     "execution_count": 11,
     "metadata": {},
     "output_type": "execute_result"
    }
   ],
   "source": [
    "mylist[:-2]  "
   ]
  },
  {
   "cell_type": "code",
   "execution_count": 12,
   "id": "935e58cb",
   "metadata": {},
   "outputs": [
    {
     "data": {
      "text/plain": [
       "[10, 100, 1000, 2000]"
      ]
     },
     "execution_count": 12,
     "metadata": {},
     "output_type": "execute_result"
    }
   ],
   "source": [
    "mylist"
   ]
  },
  {
   "cell_type": "code",
   "execution_count": 13,
   "id": "45a50706",
   "metadata": {},
   "outputs": [
    {
     "data": {
      "text/plain": [
       "[1000, 2000]"
      ]
     },
     "execution_count": 13,
     "metadata": {},
     "output_type": "execute_result"
    }
   ],
   "source": [
    "mylist[-2:]  "
   ]
  },
  {
   "cell_type": "code",
   "execution_count": 14,
   "id": "c77a92d5",
   "metadata": {},
   "outputs": [
    {
     "data": {
      "text/plain": [
       "[10, 100]"
      ]
     },
     "execution_count": 14,
     "metadata": {},
     "output_type": "execute_result"
    }
   ],
   "source": [
    "mylist[:-2]"
   ]
  },
  {
   "cell_type": "code",
   "execution_count": 15,
   "id": "15682327",
   "metadata": {},
   "outputs": [
    {
     "ename": "IndexError",
     "evalue": "list index out of range",
     "output_type": "error",
     "traceback": [
      "\u001b[1;31m---------------------------------------------------------------------------\u001b[0m",
      "\u001b[1;31mIndexError\u001b[0m                                Traceback (most recent call last)",
      "Cell \u001b[1;32mIn[15], line 1\u001b[0m\n\u001b[1;32m----> 1\u001b[0m \u001b[43mmylist\u001b[49m\u001b[43m[\u001b[49m\u001b[38;5;241;43m4\u001b[39;49m\u001b[43m]\u001b[49m\n",
      "\u001b[1;31mIndexError\u001b[0m: list index out of range"
     ]
    }
   ],
   "source": [
    "mylist[4]"
   ]
  },
  {
   "cell_type": "code",
   "execution_count": 17,
   "id": "d3e12794",
   "metadata": {},
   "outputs": [
    {
     "name": "stdout",
     "output_type": "stream",
     "text": [
      "JJ is equal to : 10\n",
      "JJ is equal to : 100\n",
      "JJ is equal to : 1000\n",
      "JJ is equal to : 2000\n"
     ]
    }
   ],
   "source": [
    "for i in mylist:\n",
    "    {\n",
    "        print(\"JJ is equal to :\",i)\n",
    "    }"
   ]
  },
  {
   "cell_type": "code",
   "execution_count": 18,
   "id": "8e50f7f2",
   "metadata": {},
   "outputs": [
    {
     "data": {
      "text/plain": [
       "range(0, 5)"
      ]
     },
     "execution_count": 18,
     "metadata": {},
     "output_type": "execute_result"
    }
   ],
   "source": [
    "range(5)"
   ]
  },
  {
   "cell_type": "code",
   "execution_count": 19,
   "id": "e82dbbfc",
   "metadata": {},
   "outputs": [
    {
     "data": {
      "text/plain": [
       "[0, 1, 2, 3, 4]"
      ]
     },
     "execution_count": 19,
     "metadata": {},
     "output_type": "execute_result"
    }
   ],
   "source": [
    "list(range(5))"
   ]
  },
  {
   "cell_type": "code",
   "execution_count": 20,
   "id": "8e9c74a4",
   "metadata": {},
   "outputs": [
    {
     "data": {
      "text/plain": [
       "[0, 1, 2, 3, 4, 5, 6, 7, 8, 9]"
      ]
     },
     "execution_count": 20,
     "metadata": {},
     "output_type": "execute_result"
    }
   ],
   "source": [
    "list(range(10))"
   ]
  },
  {
   "cell_type": "code",
   "execution_count": 21,
   "id": "23cc8b61",
   "metadata": {},
   "outputs": [
    {
     "data": {
      "text/plain": [
       "[1, 2, 3, 4, 5, 6, 7, 8, 9]"
      ]
     },
     "execution_count": 21,
     "metadata": {},
     "output_type": "execute_result"
    }
   ],
   "source": [
    "list(range(1,10))"
   ]
  },
  {
   "cell_type": "code",
   "execution_count": 22,
   "id": "63cd0dcf",
   "metadata": {},
   "outputs": [
    {
     "data": {
      "text/plain": [
       "[10, 15, 20, 25, 30, 35]"
      ]
     },
     "execution_count": 22,
     "metadata": {},
     "output_type": "execute_result"
    }
   ],
   "source": [
    "list(range(10,40,5))"
   ]
  },
  {
   "cell_type": "code",
   "execution_count": 23,
   "id": "d1af51ba",
   "metadata": {},
   "outputs": [
    {
     "data": {
      "text/plain": [
       "[1, 4, 7]"
      ]
     },
     "execution_count": 23,
     "metadata": {},
     "output_type": "execute_result"
    }
   ],
   "source": [
    "list(range(1,10,3))"
   ]
  },
  {
   "cell_type": "code",
   "execution_count": 24,
   "id": "57d6dc32",
   "metadata": {},
   "outputs": [],
   "source": [
    "# ================= IF STATEMENT ======================\n",
    "# -----(-2),(-1),(0),(1),(2)------------\n",
    "import numpy as np # numpy is package is a scientific computation, matrix , array  \n",
    "from numpy.random import randn\n"
   ]
  },
  {
   "cell_type": "code",
   "execution_count": 25,
   "id": "769e9c9f",
   "metadata": {},
   "outputs": [
    {
     "data": {
      "text/plain": [
       "-0.3857322424593945"
      ]
     },
     "execution_count": 25,
     "metadata": {},
     "output_type": "execute_result"
    }
   ],
   "source": [
    "randn()"
   ]
  },
  {
   "cell_type": "code",
   "execution_count": 26,
   "id": "4a080aeb",
   "metadata": {},
   "outputs": [
    {
     "name": "stdout",
     "output_type": "stream",
     "text": [
      "Your One Time Password is \n",
      "41\n"
     ]
    }
   ],
   "source": [
    "# Python Program for simple OTP genertaor\n",
    "import random as r\n",
    "# function for otp generation\n",
    "def otpgen():\n",
    "    otp=\"\"\n",
    "    for i in range(2):\n",
    "        otp+=str(r.randint(1,5))\n",
    "    print (\"Your One Time Password is \")\n",
    "    print (otp)\n",
    "otpgen()"
   ]
  },
  {
   "cell_type": "code",
   "execution_count": 27,
   "id": "ca8c553d",
   "metadata": {},
   "outputs": [
    {
     "name": "stdout",
     "output_type": "stream",
     "text": [
      "0.9522132344595046\n",
      "less than 1\n"
     ]
    }
   ],
   "source": [
    "#====If -else statement ====\n",
    "#-----(-2),(-1),(0),(1),(2)\n",
    "#answer = none\n",
    "x=randn()\n",
    "if x>1:\n",
    "    answer = \" Greater then 1\"\n",
    "else:\n",
    "    answer=\"less than 1\"\n",
    "print(x)\n",
    "print(answer)"
   ]
  },
  {
   "cell_type": "markdown",
   "id": "ff44af41",
   "metadata": {},
   "source": [
    "# Fundamentals of python which are used in datascience -"
   ]
  },
  {
   "cell_type": "code",
   "execution_count": 28,
   "id": "5a692b7f",
   "metadata": {},
   "outputs": [],
   "source": [
    "MyFirstList=[5,50,67,2020]"
   ]
  },
  {
   "cell_type": "code",
   "execution_count": 29,
   "id": "0d5de60c",
   "metadata": {},
   "outputs": [
    {
     "data": {
      "text/plain": [
       "[5, 50, 67, 2020]"
      ]
     },
     "execution_count": 29,
     "metadata": {},
     "output_type": "execute_result"
    }
   ],
   "source": [
    "MyFirstList"
   ]
  },
  {
   "cell_type": "code",
   "execution_count": 30,
   "id": "cf73765b",
   "metadata": {},
   "outputs": [
    {
     "data": {
      "text/plain": [
       "list"
      ]
     },
     "execution_count": 30,
     "metadata": {},
     "output_type": "execute_result"
    }
   ],
   "source": [
    "type(MyFirstList)"
   ]
  },
  {
   "cell_type": "code",
   "execution_count": 31,
   "id": "9d49d3e0",
   "metadata": {},
   "outputs": [],
   "source": [
    "MysecondList=[2,5.0,\"Abcde\",True,40+67j]"
   ]
  },
  {
   "cell_type": "code",
   "execution_count": 32,
   "id": "4444552a",
   "metadata": {},
   "outputs": [
    {
     "data": {
      "text/plain": [
       "[2, 5.0, 'Abcde', True, (40+67j)]"
      ]
     },
     "execution_count": 32,
     "metadata": {},
     "output_type": "execute_result"
    }
   ],
   "source": [
    "MysecondList"
   ]
  },
  {
   "cell_type": "code",
   "execution_count": 33,
   "id": "1f438fde",
   "metadata": {},
   "outputs": [
    {
     "data": {
      "text/plain": [
       "list"
      ]
     },
     "execution_count": 33,
     "metadata": {},
     "output_type": "execute_result"
    }
   ],
   "source": [
    "type(MysecondList)"
   ]
  },
  {
   "cell_type": "code",
   "execution_count": 34,
   "id": "615bdf41",
   "metadata": {},
   "outputs": [],
   "source": [
    "bat=['How are you? ' ,55,(3,4,5)]"
   ]
  },
  {
   "cell_type": "code",
   "execution_count": 35,
   "id": "778928d3",
   "metadata": {},
   "outputs": [
    {
     "data": {
      "text/plain": [
       "['How are you? ', 55, (3, 4, 5)]"
      ]
     },
     "execution_count": 35,
     "metadata": {},
     "output_type": "execute_result"
    }
   ],
   "source": [
    "bat"
   ]
  },
  {
   "cell_type": "code",
   "execution_count": 36,
   "id": "951de58c",
   "metadata": {},
   "outputs": [],
   "source": [
    "fruits=[\"orange\",\"apple\",\"pear\",\"banana\",\"kiwi\",'apple','banana',\"apple\",\"apple\",'kiwi']"
   ]
  },
  {
   "cell_type": "code",
   "execution_count": 37,
   "id": "3cd44498",
   "metadata": {},
   "outputs": [
    {
     "data": {
      "text/plain": [
       "10"
      ]
     },
     "execution_count": 37,
     "metadata": {},
     "output_type": "execute_result"
    }
   ],
   "source": [
    "len(fruits)"
   ]
  },
  {
   "cell_type": "code",
   "execution_count": 38,
   "id": "ce9a2aa0",
   "metadata": {},
   "outputs": [
    {
     "data": {
      "text/plain": [
       "2"
      ]
     },
     "execution_count": 38,
     "metadata": {},
     "output_type": "execute_result"
    }
   ],
   "source": [
    "fruits.count(\"kiwi\")"
   ]
  },
  {
   "cell_type": "code",
   "execution_count": 39,
   "id": "756611a1",
   "metadata": {},
   "outputs": [
    {
     "data": {
      "text/plain": [
       "4"
      ]
     },
     "execution_count": 39,
     "metadata": {},
     "output_type": "execute_result"
    }
   ],
   "source": [
    "fruits.count('apple')"
   ]
  },
  {
   "cell_type": "code",
   "execution_count": 40,
   "id": "ad23119f",
   "metadata": {},
   "outputs": [
    {
     "data": {
      "text/plain": [
       "range(0, 15)"
      ]
     },
     "execution_count": 40,
     "metadata": {},
     "output_type": "execute_result"
    }
   ],
   "source": [
    "range(15)"
   ]
  },
  {
   "cell_type": "code",
   "execution_count": 41,
   "id": "3d5795c3",
   "metadata": {},
   "outputs": [
    {
     "data": {
      "text/plain": [
       "[0, 1, 2, 3, 4, 5, 6, 7, 8, 9, 10, 11, 12, 13, 14]"
      ]
     },
     "execution_count": 41,
     "metadata": {},
     "output_type": "execute_result"
    }
   ],
   "source": [
    "list(range(15))"
   ]
  },
  {
   "cell_type": "code",
   "execution_count": 42,
   "id": "1ecef91a",
   "metadata": {},
   "outputs": [
    {
     "data": {
      "text/plain": [
       "[1, 2, 3, 4, 5, 6, 7]"
      ]
     },
     "execution_count": 42,
     "metadata": {},
     "output_type": "execute_result"
    }
   ],
   "source": [
    "x=[1,2,3,4,5,6,7]\n",
    "x"
   ]
  },
  {
   "cell_type": "code",
   "execution_count": 43,
   "id": "64c8f17f",
   "metadata": {},
   "outputs": [
    {
     "data": {
      "text/plain": [
       "[0, 1, 2, 3, 4, 5, 6, 7]"
      ]
     },
     "execution_count": 43,
     "metadata": {},
     "output_type": "execute_result"
    }
   ],
   "source": [
    "y=list(range(8))\n",
    "y"
   ]
  },
  {
   "cell_type": "code",
   "execution_count": 44,
   "id": "f4bcac28",
   "metadata": {},
   "outputs": [
    {
     "data": {
      "text/plain": [
       "[1, 2, 3, 4, 5, 6, 7]"
      ]
     },
     "execution_count": 44,
     "metadata": {},
     "output_type": "execute_result"
    }
   ],
   "source": [
    "list(range(1,8))"
   ]
  },
  {
   "cell_type": "code",
   "execution_count": 45,
   "id": "f33a7c9e",
   "metadata": {},
   "outputs": [],
   "source": [
    "z=list(range(1,8))"
   ]
  },
  {
   "cell_type": "code",
   "execution_count": 46,
   "id": "e03b93af",
   "metadata": {},
   "outputs": [
    {
     "data": {
      "text/plain": [
       "[1, 2, 3, 4, 5, 6, 7]"
      ]
     },
     "execution_count": 46,
     "metadata": {},
     "output_type": "execute_result"
    }
   ],
   "source": [
    "z"
   ]
  },
  {
   "cell_type": "code",
   "execution_count": 47,
   "id": "c391c911",
   "metadata": {},
   "outputs": [],
   "source": [
    "a1=list(range(5,8))"
   ]
  },
  {
   "cell_type": "code",
   "execution_count": 48,
   "id": "83dbafa2",
   "metadata": {},
   "outputs": [
    {
     "data": {
      "text/plain": [
       "[5, 6, 7]"
      ]
     },
     "execution_count": 48,
     "metadata": {},
     "output_type": "execute_result"
    }
   ],
   "source": [
    "a1"
   ]
  }
 ],
 "metadata": {
  "kernelspec": {
   "display_name": "Python 3 (ipykernel)",
   "language": "python",
   "name": "python3"
  },
  "language_info": {
   "codemirror_mode": {
    "name": "ipython",
    "version": 3
   },
   "file_extension": ".py",
   "mimetype": "text/x-python",
   "name": "python",
   "nbconvert_exporter": "python",
   "pygments_lexer": "ipython3",
   "version": "3.10.9"
  }
 },
 "nbformat": 4,
 "nbformat_minor": 5
}
